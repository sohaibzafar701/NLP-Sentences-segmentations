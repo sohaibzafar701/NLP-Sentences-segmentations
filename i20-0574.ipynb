{
  "cells": [
    {
      "cell_type": "markdown",
      "metadata": {
        "id": "11_QtarKSjPf"
      },
      "source": [
        "### Natural Language Processing: Assignment 1"
      ]
    },
    {
      "cell_type": "markdown",
      "metadata": {
        "id": "0S_p54xNSTq_"
      },
      "source": [
        "##### This is demo program which give you idea about how to start  your assignment."
      ]
    },
    {
      "cell_type": "code",
      "execution_count": null,
      "metadata": {
        "id": "vIhS278lWQOv"
      },
      "outputs": [],
      "source": [
        "## Muhammad Sohaib Zafar P200574"
      ]
    },
    {
      "cell_type": "markdown",
      "metadata": {
        "id": "XChiPrRsSwjz"
      },
      "source": [
        "##### Reading File"
      ]
    },
    {
      "cell_type": "code",
      "execution_count": null,
      "metadata": {
        "id": "lxjaBCgOWYKt",
        "outputId": "8fdecc06-bf95-4a35-85bd-b3a0c758ad06"
      },
      "outputs": [
        {
          "name": "stdout",
          "output_type": "stream",
          "text": [
            "عقل خان کے مطابق اس خوبصورت چراگاہ کو کنڈیل شئی بانال کہا جاتا ہے کنڈیل شئی بانال کے اس خوبصورت میدان کو اگر سویٹزرلینڈ کے کسی ہرے بھرے میدانی علاقے سے تشبیہہ دی جائے تو کچھ غلط نہیں ہوگا میدان میں داخل ہوتے ہی کچھ دیر آرام کرنے کی میری خواہش پر سب نے لبیک کہا ایسا لگا جیسے ان کی دل کی بات میرے لبوں سے ادا ہوئی ہو۔\n"
          ]
        }
      ],
      "source": [
        "import csv\n",
        "\n",
        "with open('sent-test.txt', 'rt', encoding=\"utf-8\") as f:\n",
        "    reader = csv.reader(f)\n",
        "    passage = list(reader)\n",
        "f.close()\n",
        "text = passage[0][0]\n",
        "print(text)"
      ]
    },
    {
      "cell_type": "markdown",
      "metadata": {
        "id": "qrxGyTAIm_KK"
      },
      "source": [
        "##### Segmentation using UrduHack"
      ]
    },
    {
      "cell_type": "code",
      "execution_count": null,
      "metadata": {
        "id": "0U41t0IHm_KK",
        "outputId": "0796971e-948a-4d74-8082-e6bde0038906"
      },
      "outputs": [
        {
          "data": {
            "text/plain": [
              "['عقل خان کے مطابق اس خوبصورت چراگاہ کو کنڈیل شئی بانال کہا جاتا ہے۔',\n",
              " 'کنڈیل شئی بانال کے اس خوبصورت میدان کو اگر سویٹزرلینڈ کے کسی ہرے بھرے میدانی علاقے سے تشبیہہ دی جائے تو کچھ غلط نہیں ہوگا میدان میں داخل ہوتے ہی کچھ دیر آرام کرنے کی میری خواہش پر سب نے لبیک کہا ایسا لگا جیسے ان کی دل کی بات میرے لبوں سے ادا ہوئی ہو۔']"
            ]
          },
          "execution_count": 4,
          "metadata": {},
          "output_type": "execute_result"
        }
      ],
      "source": [
        "import urduhack\n",
        "from urduhack.tokenization import sentence_tokenizer\n",
        "\n",
        "sentences = sentence_tokenizer(text)\n",
        "sentences"
      ]
    },
    {
      "cell_type": "code",
      "execution_count": null,
      "metadata": {
        "id": "V_nmexJ8m_KL",
        "outputId": "548bc9f6-8b94-4549-f4f6-aeb900ce1063"
      },
      "outputs": [
        {
          "data": {
            "text/plain": [
              "2"
            ]
          },
          "execution_count": 5,
          "metadata": {},
          "output_type": "execute_result"
        }
      ],
      "source": [
        "len(sentences)"
      ]
    },
    {
      "cell_type": "markdown",
      "metadata": {
        "id": "_gaElHuGS4Qb"
      },
      "source": [
        "#### Reading Segmented File"
      ]
    },
    {
      "cell_type": "code",
      "execution_count": null,
      "metadata": {
        "id": "gnPi90zhegAM"
      },
      "outputs": [],
      "source": [
        "with open('sent-segmented.txt', 'rt', encoding=\"utf-8\") as f:\n",
        "    reader = csv.reader(f)\n",
        "    segmented = list(reader)\n",
        "f.close()"
      ]
    },
    {
      "cell_type": "code",
      "execution_count": null,
      "metadata": {
        "id": "H2dvnpowm_KM",
        "outputId": "9836688b-94e5-4236-aae5-799665acf75c"
      },
      "outputs": [
        {
          "data": {
            "text/plain": [
              "5"
            ]
          },
          "execution_count": 7,
          "metadata": {},
          "output_type": "execute_result"
        }
      ],
      "source": [
        "seg_text = segmented[0][0]\n",
        "sents = seg_text.split('۔')\n",
        "len(sents)"
      ]
    },
    {
      "cell_type": "code",
      "execution_count": null,
      "metadata": {
        "id": "2KtvGg0Om_KN"
      },
      "outputs": [],
      "source": [
        "w_list = word_tokenizer(seg_text)"
      ]
    },
    {
      "cell_type": "code",
      "execution_count": null,
      "metadata": {
        "id": "5f4u7MW4m_KN",
        "outputId": "f546719e-2923-4ffb-c3cf-fae3ae5d123a"
      },
      "outputs": [
        {
          "data": {
            "text/plain": [
              "['عقل',\n",
              " 'خان',\n",
              " 'کے',\n",
              " 'مطابق',\n",
              " 'اس',\n",
              " 'خوبصورت',\n",
              " 'چراگاہ',\n",
              " 'کو',\n",
              " 'کنڈیل',\n",
              " 'شئیبانال',\n",
              " 'کہا',\n",
              " 'جاتا',\n",
              " 'ہے۔',\n",
              " 'کنڈیل',\n",
              " 'شئی',\n",
              " 'بانال',\n",
              " 'کے',\n",
              " 'اس',\n",
              " 'خوبصورت',\n",
              " 'میدان',\n",
              " 'کو',\n",
              " 'اگر',\n",
              " 'سویٹزرلینڈ',\n",
              " 'کے',\n",
              " 'کسی',\n",
              " 'ہرے',\n",
              " 'بھرے',\n",
              " 'میدانی',\n",
              " 'علاقے',\n",
              " 'سے',\n",
              " 'تشبیہہ',\n",
              " 'دی',\n",
              " 'جائے',\n",
              " 'تو',\n",
              " 'کچھ',\n",
              " 'غلط',\n",
              " 'نہیں',\n",
              " 'ہو',\n",
              " 'گا۔میدان',\n",
              " 'میں',\n",
              " 'داخل',\n",
              " 'ہوتے',\n",
              " 'ہی',\n",
              " 'کچھ',\n",
              " 'دیر',\n",
              " 'آرام',\n",
              " 'کرنے',\n",
              " 'کی',\n",
              " 'میری',\n",
              " 'خواہش',\n",
              " 'پر',\n",
              " 'سب',\n",
              " 'نے',\n",
              " 'لبیک',\n",
              " 'کہا۔',\n",
              " 'ایسا',\n",
              " 'لگا',\n",
              " 'جیسے',\n",
              " 'ان',\n",
              " 'کی',\n",
              " 'دل',\n",
              " 'کی',\n",
              " 'بات',\n",
              " 'میرے',\n",
              " 'لبوں',\n",
              " 'سے',\n",
              " 'ادا',\n",
              " 'ہوئی',\n",
              " 'ہو۔']"
            ]
          },
          "execution_count": 9,
          "metadata": {},
          "output_type": "execute_result"
        }
      ],
      "source": [
        "w_list[0]"
      ]
    },
    {
      "cell_type": "markdown",
      "metadata": {
        "id": "GJYE6JoIm_KO"
      },
      "source": [
        "##### Your Sentence Segmentation Code"
      ]
    },
    {
      "cell_type": "code",
      "execution_count": 5,
      "metadata": {
        "colab": {
          "base_uri": "https://localhost:8080/"
        },
        "outputId": "d24f930e-5248-418a-f981-6c3b2381c059",
        "id": "SRgS1IRFoFfB"
      },
      "outputs": [
        {
          "output_type": "stream",
          "name": "stdout",
          "text": [
            "Total Sentences:  3\n",
            "عقل خان کے مطابق اس خوبصورت چراگاہ کو کنڈیل شئی بانال کہا جاتا ہے۔ کنڈیل شئی بانال کے اس خوبصورت میدان کو اگر سویٹزرلینڈ کے کسی ہرے بھرے میدانی علاقے سے تشبیہہ دی جائے تو کچھ غلط نہیں ہوگا۔ میدان میں داخل ہوتے ہی کچھ دیر آرام کرنے کی میری خواہش پر سب نے لبیک کہا ایسا لگا جیسے ان کی دل کی بات میرے لبوں سے ادا ہوئی ہو۔\n"
          ]
        }
      ],
      "source": [
        "def urdu_sentence_segmentation(text):\n",
        "    urdu_sentence_finishers = [\"ہے\", \"ہیں\", \"ہو\", \"ہوں\", \"تھیں\", \"تھے\", \"تھی\", \"تھا\", \"گا\", \"گے\", \"گی\", \"سکا\", \"سکی\", \"ہوگا\", \"ہوگی\", \"گیا\", \"گئیں\", \"کیں\", \"\"]\n",
        "\n",
        "    sentences = []  #count segmented sentences\n",
        "\n",
        "    # Loop through the text\n",
        "    current_sentence = \"\"\n",
        "    for word in text.split():\n",
        "        current_sentence += word + \" \"\n",
        "\n",
        "        # If the current word is a sentence finisher, add the current sentence to the list of sentences\n",
        "        if word.strip(\"۔\") in urdu_sentence_finishers:\n",
        "            # Remove spaces\n",
        "            sentences.append(current_sentence.strip())\n",
        "            # Reset current sentence\n",
        "            current_sentence = \"\"\n",
        "\n",
        "    # Add the last remaining sentence if any\n",
        "    if current_sentence:\n",
        "        sentences.append(current_sentence.strip())\n",
        "\n",
        "    return sentences\n",
        "\n",
        "# Read text from file\n",
        "file_path = \"/content/test.txt\"\n",
        "with open(file_path, 'r', encoding=\"utf-8\") as file:\n",
        "    text = file.read()\n",
        "\n",
        "# Perform sentence segmentation\n",
        "segmented_sentences = urdu_sentence_segmentation(text)\n",
        "segmented_text = '۔ '.join(segmented_sentences)\n",
        "\n",
        "count = len(segmented_sentences)\n",
        "print(\"Total Sentences: \", count)\n",
        "print(segmented_text)\n",
        "\n"
      ]
    },
    {
      "cell_type": "markdown",
      "metadata": {
        "id": "YZ83jAJ3S-uR"
      },
      "source": [
        "#### Compute Accuracy and Print Results"
      ]
    },
    {
      "cell_type": "code",
      "execution_count": 12,
      "metadata": {
        "colab": {
          "base_uri": "https://localhost:8080/"
        },
        "outputId": "02c72c04-ae8d-4ea0-bca2-af2844c309e7",
        "id": "ktIBo8INo6Mg"
      },
      "outputs": [
        {
          "output_type": "stream",
          "name": "stdout",
          "text": [
            "Sentences obtained by the defined function:  3\n",
            "Sentences counted manually:  3\n",
            "Accuracy:  100.0\n"
          ]
        }
      ],
      "source": [
        "def compute_accuracy(counted_sentences, file_path):\n",
        "    # Read text from file\n",
        "    with open(file_path, 'r', encoding=\"utf-8\") as file:\n",
        "        text = file.read()\n",
        "\n",
        "    # Perform sentence segmentation\n",
        "    segmented_sentences = urdu_sentence_segmentation(text)\n",
        "\n",
        "    # Calculate accuracy as a percentage\n",
        "    accuracy = (counted_sentences / len(segmented_sentences)) * 100\n",
        "    return accuracy\n",
        "\n",
        "# Example usage\n",
        "counted_sentences = 3  # Adjust the number of counted sentences as needed\n",
        "accuracy = compute_accuracy(counted_sentences, \"/content/test.txt\")\n",
        "count = len(segmented_sentences)\n",
        "print(\"Sentences obtained by the defined function: \", count)\n",
        "print(\"Sentences counted manually: \", counted_sentences)\n",
        "print(\"Accuracy: \", accuracy)\n"
      ]
    }
  ],
  "metadata": {
    "colab": {
      "provenance": []
    },
    "kernelspec": {
      "display_name": "Python 3",
      "language": "python",
      "name": "python3"
    },
    "language_info": {
      "codemirror_mode": {
        "name": "ipython",
        "version": 3
      },
      "file_extension": ".py",
      "mimetype": "text/x-python",
      "name": "python",
      "nbconvert_exporter": "python",
      "pygments_lexer": "ipython3",
      "version": "3.7.6"
    }
  },
  "nbformat": 4,
  "nbformat_minor": 0
}